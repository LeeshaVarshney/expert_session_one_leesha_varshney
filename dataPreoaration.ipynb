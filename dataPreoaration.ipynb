{
 "cells": [
  {
   "cell_type": "markdown",
   "source": [
    "# Data Preparation\r\n",
    "\r\n",
    "### In this notebook we will prepare our data for our search function to use. <br>Currently we have data stored in below mentioned ```csv``` files.<br>\r\n",
    "* water_portability.csv\r\n",
    "<br>\r\n"
   ],
   "metadata": {}
  },
  {
   "cell_type": "code",
   "execution_count": null,
   "source": [
    "# Import the needed modules...\r\n",
    "\r\n",
    "import pandas as pd\r\n",
    "from collections import defaultdict\r\n",
    "from os import getcwd"
   ],
   "outputs": [],
   "metadata": {}
  },
  {
   "cell_type": "markdown",
   "source": [
    "# Data Engineering<br>\r\n",
    "* ## Get data in dataframes."
   ],
   "metadata": {}
  },
  {
   "cell_type": "code",
   "execution_count": null,
   "source": [
    "\"\"\"\r\n",
    "    Read data from water_portability.csv\r\n",
    "\"\"\"\r\n",
    "df            = pd.read_csv('water_portability.csv')\r\n",
    "df = df.fillna(\"NaN\")\r\n",
    "water_portability_table_columns = df_movies.columns.tolist()\r\n",
    "print(f\"COLUMNS : {water_portability_table_columns}\")"
   ],
   "outputs": [],
   "metadata": {}
  },
  {
   "cell_type": "markdown",
   "source": [
    "* ### A user will always search a water potability by its '''pH, Hardness, solids''' so we will create a ```Global secondary index``` to be able to perform search our datastore. <br>it will obviously take some extra space but almost negligible as compared to the size of the original data. <br>In addition, It will make our searching faster and efficient so it's a good deal."
   ],
   "metadata": {}
  },
  {
   "cell_type": "code",
   "execution_count": null,
   "source": [
    "# Sort water potability dataframe on the basis of pH...\r\n",
    "df_pH_sorted = df.sort_values(by=['pH'])\r\n",
    "\r\n",
    "# Sort water potability dataframe on the basis of Hardness...\r\n",
    "df_Hardness_sorted = df.sort_values(by=['Hardness'])\r\n",
    "\r\n",
    "# Sort water potability dataframe on the basis of solids...\r\n",
    "df_Solids_sorted = df.sort_values(by=['solids'])\r\n",
    "\r\n",
    "# Sort water potability dataframe on the basis of s...\r\n",
    "df_conductivity_sorted = df.sort_values(by=['Conductivity'])"
   ],
   "outputs": [],
   "metadata": {}
  },
  {
   "cell_type": "code",
   "execution_count": null,
   "source": [
    "# from water potability dataframe...\r\n",
    "pH_values    = df_pH_sorted[\"pH\"].tolist()\r\n",
    "hardness = df_Hardness_sorted[\"Hardness\"].tolist()\r\n",
    "solids = df_Solids_sorted[\"Solids\"].tolist()\r\n",
    "conductivity = df_conductivity_sorted[\"Conductiviity\"].tolist()"
   ],
   "outputs": [],
   "metadata": {}
  },
  {
   "cell_type": "code",
   "execution_count": null,
   "source": [
    "waterPotabilityDict             = {}\r\n",
    "global_secondaryIndex = {}\r\n",
    "for idx, pH in enumerate(pH_values):\r\n",
    "    waterPotabilityDict[pH_values] = {\r\n",
    "        \"Hardness\" : pH_values[idx],\r\n",
    "        \"Solids\" : solids[idx], \r\n",
    "        \"Conductivity\" : conductivity[idx]\r\n",
    "        \r\n",
    "    }\r\n",
    "    \r\n",
    "    global_secondaryIndex[pH_values[idx]] = pH\r\n",
    "\r\n",
    "\r\n",
    "waterPotabilitySecondaryDict             = {}\r\n",
    "global_secondaryIndex = {}\r\n",
    "for idx, Hardness in enumerate(hardness):\r\n",
    "    waterPotabilityDict[hardness] = {\r\n",
    "        \"pH\" : pH_values[idx],\r\n",
    "        \"Solids\" : solids[idx], \r\n",
    "        \"Conductivity\" : conductivity[idx]\r\n",
    "        \r\n",
    "    }\r\n",
    "    \r\n",
    "    global_secondaryIndex[Hardness_values[idx]] = pH"
   ],
   "outputs": [],
   "metadata": {}
  },
  {
   "cell_type": "code",
   "execution_count": null,
   "source": [
    "# delete veriables which are no longer in use while holding large amount of data.\r\n",
    "del df_pH_sorted\r\n",
    "del df_Hardness_sorted\r\n",
    "del df__Solids_sorted\r\n",
    "del df__conductivity_sorted"
   ],
   "outputs": [],
   "metadata": {}
  },
  {
   "cell_type": "code",
   "execution_count": null,
   "source": [],
   "outputs": [],
   "metadata": {}
  },
  {
   "cell_type": "code",
   "execution_count": null,
   "source": [
    "import json\r\n",
    "print(\"[INFO] Writing water potability Data into the disk...\")\r\n",
    "with open('dataStore/dataFinal.json', 'w') as fp:\r\n",
    "    json.dump(waterPotabilityDict, fp, sort_keys=True, indent=4)\r\n",
    "print(\"[INFO] Writing Global Secondary Index Data into the disk...\")\r\n",
    "with open('dataStore/dataFinal_GIS.json', 'w') as fp:\r\n",
    "    json.dump(global_secondaryIndex, fp, sort_keys=True, indent=4)"
   ],
   "outputs": [],
   "metadata": {}
  },
  {
   "cell_type": "markdown",
   "source": [
    "# markdown "
   ],
   "metadata": {}
  },
  {
   "cell_type": "markdown",
   "source": [
    "#### At this point, our database is ready and it can handel high inflow of requests."
   ],
   "metadata": {}
  },
  {
   "cell_type": "markdown",
   "source": [],
   "metadata": {}
  }
 ],
 "metadata": {
  "orig_nbformat": 4,
  "language_info": {
   "name": "python"
  }
 },
 "nbformat": 4,
 "nbformat_minor": 2
}